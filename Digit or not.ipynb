{
 "cells": [
  {
   "cell_type": "markdown",
   "id": "25af0fdc",
   "metadata": {},
   "source": [
    "# EXERCICE 2\n",
    "In this part, we will create a neural network capable of identifying whether a grayscale image of size 28 × 28\n",
    "is a handwritten digit or not."
   ]
  },
  {
   "cell_type": "code",
   "execution_count": 1,
   "id": "6b2bfcd9",
   "metadata": {},
   "outputs": [],
   "source": [
    "#First of all, we install the packages which we are going to work with...\n",
    "from PIL import Image\n",
    "from tensorflow import keras\n",
    "import numpy as np\n",
    "import matplotlib.pyplot as plt \n",
    "import pandas as pd\n",
    "import pylab as plb\n",
    "from sklearn.metrics import confusion_matrix\n",
    "from sklearn.model_selection import cross_val_predict\n",
    "import seaborn as sns \n",
    "import itertools"
   ]
  },
  {
   "cell_type": "markdown",
   "id": "9ab9e6c8",
   "metadata": {},
   "source": [
    "## First of all we generate “random” 28 × 28 grayscale images \n",
    "To do this we will generate “random” 28 × 28 grayscale images using a function(numpy.random and matplotlib imshow function) in Python that generates an image in which the pixel values are obtained by using a uniform distribution(rand function)."
   ]
  },
  {
   "cell_type": "code",
   "execution_count": 2,
   "id": "f6f16468",
   "metadata": {},
   "outputs": [],
   "source": [
    "# Random generation of pixels uniformly distributed with rand...\n",
    "n=30000\n",
    "m=10000\n",
    "r_x_train=np.random.rand(28*28*n).reshape((n, 28, 28, 1))\n",
    "r_x_test=np.random.rand(28*28*m).reshape((m, 28, 28, 1))\n",
    "\n",
    "#Creating r_y training and testing sample\n",
    "r_y_train= np.zeros(30000)\n",
    "r_y_test= np.zeros(10000)"
   ]
  },
  {
   "cell_type": "code",
   "execution_count": 3,
   "id": "ae93e463",
   "metadata": {},
   "outputs": [
    {
     "data": {
      "image/png": "[encoded data removed]",
      "text/plain": [
       "<Figure size 432x288 with 2 Axes>"
      ]
     },
     "metadata": {
      "needs_background": "light"
     },
     "output_type": "display_data"
    }
   ],
   "source": [
    "#Verifying...\n",
    " #The train sample\n",
    "plt.subplot(121)\n",
    "plt.imshow(r_x_train[102,:,:],cmap='gray',interpolation='nearest')\n",
    "\n",
    "#The test sample\n",
    "plt.subplot(122)\n",
    "plt.imshow(r_x_test[100,:,:],cmap='gray',interpolation='nearest')\n",
    "plt.show()"
   ]
  },
  {
   "cell_type": "markdown",
   "id": "6afad9ea",
   "metadata": {},
   "source": [
    "##  Importing Mnist database\n",
    "Here we will load first the MNIST database from keras, then we will reshape the dataset and choose randomly the number of observations that we need.\n"
   ]
  },
  {
   "cell_type": "code",
   "execution_count": 4,
   "id": "b4c7f1bf",
   "metadata": {},
   "outputs": [],
   "source": [
    "#loading data Mnist...\n",
    "(x_train, y_train), (x_test, y_test) = keras.datasets.mnist.load_data(path=\"mnist.npz\")"
   ]
  },
  {
   "cell_type": "code",
   "execution_count": 5,
   "id": "df52fe4e",
   "metadata": {},
   "outputs": [
    {
     "name": "stdout",
     "output_type": "stream",
     "text": [
      "Training data dimensions:  (60000, 28, 28)\n",
      "Test data dimensions:  (10000, 28, 28)\n"
     ]
    }
   ],
   "source": [
    "#Trainning and testing shape\n",
    "print('Training data dimensions: ',x_train.shape, )\n",
    "print('Test data dimensions: ', x_test.shape, )"
   ]
  },
  {
   "cell_type": "code",
   "execution_count": 6,
   "id": "49895b54",
   "metadata": {},
   "outputs": [],
   "source": [
    "#Now we expand our array of x_test and x_train to give space to our new observation\n",
    "x_train=np.expand_dims(x_train, -1)\n",
    "x_test=np.expand_dims(x_test, -1)"
   ]
  },
  {
   "cell_type": "code",
   "execution_count": 7,
   "id": "e8ea4bb2",
   "metadata": {},
   "outputs": [],
   "source": [
    "#We draw our 30000 observations from Mnist database\n",
    "x_train=x_train[np.random.choice(x_train.shape[0], n, replace=\"False\")]\n",
    "\n",
    "#Creating y training and testing sample\n",
    "y_train=np.ones(30000)\n",
    "y_test=np.ones(10000)"
   ]
  },
  {
   "cell_type": "markdown",
   "id": "e99b6421",
   "metadata": {},
   "source": [
    "## Here we create a new sample with our mnist observations and the new one draw randomly"
   ]
  },
  {
   "cell_type": "code",
   "execution_count": 8,
   "id": "2d64c72a",
   "metadata": {},
   "outputs": [],
   "source": [
    "# Now we create a new sample with our mnist observations and the new one draw randomly\n",
    "\n",
    "X_train=np.concatenate((x_train, r_x_train))\n",
    "Y_train=np.concatenate((y_train, r_y_train))\n",
    "\n",
    "X_test=np.concatenate((x_test, r_x_test))\n",
    "Y_test=np.concatenate((y_test, r_y_test))\n",
    "\n",
    "#We reshape our y_train and y_test data\n",
    "Y_train = keras.utils.to_categorical(Y_train)\n",
    "Y_test = keras.utils.to_categorical(Y_test)\n"
   ]
  },
  {
   "cell_type": "markdown",
   "id": "a615a0e2",
   "metadata": {},
   "source": [
    "## Proposing an architecture for the network\n"
   ]
  },
  {
   "cell_type": "code",
   "execution_count": 9,
   "id": "4f423f04",
   "metadata": {},
   "outputs": [
    {
     "name": "stdout",
     "output_type": "stream",
     "text": [
      "Model: \"sequential\"\n",
      "_________________________________________________________________\n",
      "Layer (type)                 Output Shape              Param #   \n",
      "=================================================================\n",
      "conv2d (Conv2D)              (None, 13, 13, 64)        640       \n",
      "_________________________________________________________________\n",
      "dropout (Dropout)            (None, 13, 13, 64)        0         \n",
      "_________________________________________________________________\n",
      "flatten (Flatten)            (None, 10816)             0         \n",
      "_________________________________________________________________\n",
      "dense (Dense)                (None, 2)                 21634     \n",
      "=================================================================\n",
      "Total params: 22,274\n",
      "Trainable params: 22,274\n",
      "Non-trainable params: 0\n",
      "_________________________________________________________________\n"
     ]
    }
   ],
   "source": [
    "# Here we create our model for handwrite detecting\n",
    "model_C=keras.models.Sequential()\n",
    "model_C.add(keras.Input(shape=(28,28,1)))\n",
    "model_C.add(keras.layers.Conv2D(64, (3,3), strides=(2, 2)))\n",
    "model_C.add(keras.layers.Dropout(0.5))\n",
    "model_C.add(keras.layers.Flatten())\n",
    "model_C.add(keras.layers.Dense(2, activation=\"sigmoid\"))\n",
    "opt = keras.optimizers.Adam(learning_rate=0.0001)\n",
    "model_C.summary()"
   ]
  },
  {
   "cell_type": "markdown",
   "id": "c4f988b8",
   "metadata": {},
   "source": [
    "###  Illustrate the implemented architectures with text and a diagram.\n"
   ]
  },
  {
   "cell_type": "code",
   "execution_count": 10,
   "id": "ca0a3986",
   "metadata": {},
   "outputs": [
    {
     "name": "stdout",
     "output_type": "stream",
     "text": [
      "('You must install pydot (`pip install pydot`) and install graphviz (see instructions at https://graphviz.gitlab.io/download/) ', 'for plot_model/model_to_dot to work.')\n"
     ]
    }
   ],
   "source": [
    "keras.utils.plot_model(model_C, show_shapes=True)"
   ]
  },
  {
   "cell_type": "markdown",
   "id": "b53c0cc5",
   "metadata": {},
   "source": [
    "### Trainning our Model_C"
   ]
  },
  {
   "cell_type": "code",
   "execution_count": 11,
   "id": "398d2fcf",
   "metadata": {},
   "outputs": [
    {
     "name": "stdout",
     "output_type": "stream",
     "text": [
      "Epoch 1/5\n",
      "625/625 [==============================] - 5s 8ms/step - loss: 0.1319 - accuracy: 0.9866\n",
      "Epoch 2/5\n",
      "625/625 [==============================] - 5s 8ms/step - loss: 0.0035 - accuracy: 0.9999\n",
      "Epoch 3/5\n",
      "625/625 [==============================] - 5s 8ms/step - loss: 0.0012 - accuracy: 1.0000\n",
      "Epoch 4/5\n",
      "625/625 [==============================] - 5s 8ms/step - loss: 6.9994e-04 - accuracy: 1.0000\n",
      "Epoch 5/5\n",
      "625/625 [==============================] - 5s 8ms/step - loss: 2.4185e-04 - accuracy: 1.0000\n"
     ]
    },
    {
     "data": {
      "text/plain": [
       "<keras.callbacks.History at 0x12cdca90cd0>"
      ]
     },
     "execution_count": 11,
     "metadata": {},
     "output_type": "execute_result"
    }
   ],
   "source": [
    "#Firt we compile our model\n",
    "model_C.compile(loss=\"binary_crossentropy\", optimizer=opt, metrics=\"accuracy\")\n",
    "#Then we train the model(we train it 5 times in this case)\n",
    "model_C.fit(X_test, Y_test, epochs=5)"
   ]
  },
  {
   "cell_type": "markdown",
   "id": "f59365f6",
   "metadata": {},
   "source": [
    "### Evaluate the classifier’s performance using the 10, 000 MNIST test images and 10, 000 randomly generated images"
   ]
  },
  {
   "cell_type": "code",
   "execution_count": 12,
   "id": "2a5e6635",
   "metadata": {},
   "outputs": [
    {
     "name": "stdout",
     "output_type": "stream",
     "text": [
      "625/625 [==============================] - 1s 2ms/step - loss: 1.6366e-04 - accuracy: 1.0000\n",
      "test loss: 0.00016366071940865368\n",
      "test accuracy: 1.0\n"
     ]
    }
   ],
   "source": [
    "score=model_C.evaluate(X_test,Y_test,verbose=1)\n",
    "print(\"test loss:\", score[0])\n",
    "print(\"test accuracy:\", score[1])"
   ]
  },
  {
   "cell_type": "markdown",
   "id": "8b1e54ff",
   "metadata": {},
   "source": [
    "###  Propose a vizualization of the classifier’s predictions.\n",
    "First we create our predicted function named here y_pred_C.\n",
    "Then we use a random function in order to predict the class of some images from our data.\n",
    "The image number is draw randomly."
   ]
  },
  {
   "cell_type": "code",
   "execution_count": 13,
   "id": "ae8cb0e2",
   "metadata": {},
   "outputs": [],
   "source": [
    "#prediction \n",
    "y_pred_prob_C = model_C.predict(X_test)\n",
    "y_pred_C = np.argmax(y_pred_prob_C, axis=1)\n"
   ]
  },
  {
   "cell_type": "code",
   "execution_count": 14,
   "id": "61f9305c",
   "metadata": {},
   "outputs": [
    {
     "name": "stdout",
     "output_type": "stream",
     "text": [
      "CNN model prediction for image number 5141: PRESENCE OF DIGIT \n",
      "With predicted probability : [0. 1.]\n"
     ]
    },
    {
     "data": {
      "image/png": "[encoded data removed]",
      "text/plain": [
       "<Figure size 432x288 with 1 Axes>"
      ]
     },
     "metadata": {},
     "output_type": "display_data"
    }
   ],
   "source": [
    "#random choice of the image number i\n",
    "i=np.random.randint(1,20000)\n",
    "\n",
    "sns.set_style(\"white\")\n",
    "plt.imshow(X_test[i,:,:], cmap='gray')\n",
    "\n",
    "if y_pred_C[i]==1: \n",
    "    print(f'CNN model prediction for image number {i}: PRESENCE OF DIGIT \\nWith predicted probability : {y_pred_prob_C[i]}')\n",
    "else:\n",
    "    print(f'CNN model prediction for image number {i} : NON PRESENCE OF DIGIT \\nWith predicted probability : {y_pred_prob_C[i]}')\n",
    "    \n",
    "if np.argmax(Y_test[i])==1:\n",
    "    plt.title(\"Digit\")\n",
    "else:\n",
    "    plt.title(\"Non Digit\")\n",
    "    "
   ]
  },
  {
   "cell_type": "markdown",
   "id": "5b6d9fa1",
   "metadata": {},
   "source": [
    "###  Here we allow you to vizualize the prediction on a specific list of images of your choice....\n",
    " Firt you have to choose a list of 4 number separed by space:\n",
    " You have to choose 2 number between 1:10000 in the first part and 2 number between 10001:20000.\n",
    " \n",
    " We specify this interval cause we concatenate our data. So to vizualise the prediction on images from MNIST the interval is 1:10000; And 10001:20000 for the random grayscale images prediction.\n",
    "        "
   ]
  },
  {
   "cell_type": "code",
   "execution_count": 24,
   "id": "06568be5",
   "metadata": {},
   "outputs": [
    {
     "name": "stdout",
     "output_type": "stream",
     "text": [
      "choose your image number\n",
      "\n",
      "Enter four value: 3 8 5 7\n",
      "\n",
      "CNN model prediction  for image number 3: PRESENCE OF DIGIT \n",
      "With predicted probability : [0. 1.]\n",
      "\n",
      "CNN model prediction  for image number 8: PRESENCE OF DIGIT \n",
      "With predicted probability : [0. 1.]\n",
      "\n",
      "CNN model prediction  for image number 5: PRESENCE OF DIGIT \n",
      "With predicted probability : [0. 1.]\n",
      "\n",
      "CNN model prediction  for image number 7: PRESENCE OF DIGIT \n",
      "With predicted probability : [0. 1.]\n"
     ]
    },
    {
     "data": {
      "image/png": "[encoded data removed]",
      "text/plain": [
       "<Figure size 432x288 with 4 Axes>"
      ]
     },
     "metadata": {},
     "output_type": "display_data"
    }
   ],
   "source": [
    "print(\"choose your image number\\n\")\n",
    "num1, num2,num3,num4 = [int(ele) for ele in input(\"Enter four value: \").split()]\n",
    "list=[num1, num2,num3,num4]\n",
    "\n",
    "for i in list:\n",
    "    \"\\n\"\n",
    "    plt.subplot(1,4,0+1+list.index(i))\n",
    "    sns.set_style(\"white\")\n",
    "    plt.imshow(X_test[i,:,:], cmap='gray')\n",
    "    if y_pred_C[i]==1: \n",
    "        print(f'\\nCNN model prediction  for image number {i}: PRESENCE OF DIGIT \\nWith predicted probability : {y_pred_prob_C[i]}')\n",
    "    else:\n",
    "        print(f'\\nCNN model prediction  for image number {i}: NON PRESENCE OF DIGITT \\nWith predicted probability : {y_pred_prob_C[i]}')\n",
    "\n",
    "    if np.argmax(Y_test[i])==1:\n",
    "        plt.title(\"Digit\")\n",
    "    else:\n",
    "        plt.title(\"Non Digit\")\n"
   ]
  },
  {
   "cell_type": "markdown",
   "id": "5585e3a6",
   "metadata": {},
   "source": [
    "## Confusion matrix"
   ]
  },
  {
   "cell_type": "code",
   "execution_count": 20,
   "id": "7319b3a5",
   "metadata": {},
   "outputs": [],
   "source": [
    "#First we create a new y_test sample by reducing our data dimension\n",
    "y_test_copy = np.argmax(Y_test,axis = 1)\n",
    "#Then we compute the confusion matrix named here cfm function123\n",
    "cfm = confusion_matrix(y_test_copy,y_pred_C,labels=np.arange(0,2).tolist())"
   ]
  },
  {
   "cell_type": "code",
   "execution_count": 21,
   "id": "d10e7bce",
   "metadata": {},
   "outputs": [],
   "source": [
    "#Here we write a function who can be able to plot our confusion matrix\n",
    "def plot_confusion_matrix(cfm,target_names,title='Confusion matrix',cmap=None,normalize=True,color='Reds'):\n",
    "    accuracy = np.trace(cfm) / np.sum(cfm).astype('float')\n",
    "    misclass = 1 - accuracy\n",
    "\n",
    "    if cmap is None:\n",
    "        cmap = plt.get_cmap(color)\n",
    "\n",
    "    plt.figure(figsize=(8, 6))\n",
    "    plt.imshow(cfm, interpolation='nearest', cmap=cmap)\n",
    "    plt.title(title)\n",
    "    plt.colorbar()\n",
    "    if target_names is not None:\n",
    "        tick_marks = np.arange(len(target_names))\n",
    "        plt.xticks(tick_marks, target_names, rotation=45)\n",
    "        plt.yticks(tick_marks, target_names)\n",
    "\n",
    "    if normalize:\n",
    "        cfm = cfm.astype('float') / cfm.sum(axis=1)[:, np.newaxis]\n",
    "\n",
    "\n",
    "    thresh = cfm.max() / 1.5 if normalize else cfm.max() / 2\n",
    "    for i, j in itertools.product(range(cfm.shape[0]), range(cfm.shape[1])):\n",
    "        if normalize:\n",
    "            plt.text(j, i, \"{:0.4f}\".format(cfm[i, j]),\n",
    "                     horizontalalignment=\"center\",\n",
    "                     color=\"white\" if cfm[i, j] > thresh else \"black\")\n",
    "        else:\n",
    "            plt.text(j, i, \"{:,}\".format(cfm[i, j]),\n",
    "                     horizontalalignment=\"center\",\n",
    "                     color=\"white\" if cfm[i, j] > thresh else \"black\")\n",
    "\n",
    "\n",
    "    plt.tight_layout()\n",
    "    plt.ylabel('True label')\n",
    "    plt.xlabel('Predicted label\\naccuracy={:0.4f}; misclass={:0.4f}'.format(accuracy, misclass))\n",
    "    plt.show()"
   ]
  },
  {
   "cell_type": "code",
   "execution_count": 22,
   "id": "f07a533f",
   "metadata": {
    "scrolled": false
   },
   "outputs": [
    {
     "data": {
      "image/png": "[encoded data removed]",
      "text/plain": [
       "<Figure size 576x432 with 2 Axes>"
      ]
     },
     "metadata": {},
     "output_type": "display_data"
    }
   ],
   "source": [
    "#Now we plot our confusion matrix\n",
    "plot_confusion_matrix(cfm,np.arange(0,2).tolist(),\n",
    "                          title= 'Confusion matrix for CNN model',\n",
    "                          cmap=None,\n",
    "                          normalize=False,color='Reds')"
   ]
  }
 ],
 "metadata": {
  "kernelspec": {
   "display_name": "Python 3 (ipykernel)",
   "language": "python",
   "name": "python3"
  },
  "language_info": {
   "codemirror_mode": {
    "name": "ipython",
    "version": 3
   },
   "file_extension": ".py",
   "mimetype": "text/x-python",
   "name": "python",
   "nbconvert_exporter": "python",
   "pygments_lexer": "ipython3",
   "version": "3.9.7"
  }
 },
 "nbformat": 4,
 "nbformat_minor": 5
}
